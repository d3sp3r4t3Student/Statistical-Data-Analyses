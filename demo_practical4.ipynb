{
 "cells": [
  {
   "cell_type": "code",
   "execution_count": 13,
   "id": "e48d1764-746d-4009-a032-52ab3007d927",
   "metadata": {},
   "outputs": [],
   "source": [
    "from datetime import datetime\n",
    "import matplotlib.pyplot as plt\n",
    "import numpy as np\n",
    "import pandas as pd\n",
    "import scipy\n",
    "import xarray as xr\n",
    "import os"
   ]
  },
  {
   "cell_type": "code",
   "execution_count": 14,
   "id": "da5627f6-7d94-4399-982b-be91b22e27ed",
   "metadata": {},
   "outputs": [],
   "source": [
    "def munich_station_daily():\n",
    "    filename: \"produkt_klima_tag_19540601_20191231_03379.txt\"\n",
    "    pass"
   ]
  },
  {
   "cell_type": "markdown",
   "id": "090d315a-0ca0-4ff5-85b1-dd71cbb6c2ee",
   "metadata": {},
   "source": [
    "**xarray .where():**"
   ]
  },
  {
   "cell_type": "code",
   "execution_count": 15,
   "id": "59e16f56-0677-4e7e-a085-02c7cfffa572",
   "metadata": {},
   "outputs": [
    {
     "ename": "AttributeError",
     "evalue": "module 'utils' has no attribute 'munich_station_daily'",
     "output_type": "error",
     "traceback": [
      "\u001b[1;31m---------------------------------------------------------------------------\u001b[0m",
      "\u001b[1;31mAttributeError\u001b[0m                            Traceback (most recent call last)",
      "\u001b[1;32m~\\AppData\\Local\\Temp/ipykernel_9472/2370446283.py\u001b[0m in \u001b[0;36m<module>\u001b[1;34m\u001b[0m\n\u001b[0;32m      2\u001b[0m \u001b[1;33m\u001b[0m\u001b[0m\n\u001b[0;32m      3\u001b[0m \u001b[0mpath\u001b[0m \u001b[1;33m=\u001b[0m \u001b[0mos\u001b[0m\u001b[1;33m.\u001b[0m\u001b[0mgetcwd\u001b[0m\u001b[1;33m(\u001b[0m\u001b[1;33m)\u001b[0m\u001b[1;33m\u001b[0m\u001b[1;33m\u001b[0m\u001b[0m\n\u001b[1;32m----> 4\u001b[1;33m \u001b[0mt_daily\u001b[0m \u001b[1;33m=\u001b[0m \u001b[0mutils\u001b[0m\u001b[1;33m.\u001b[0m\u001b[0mmunich_station_daily\u001b[0m\u001b[1;33m(\u001b[0m\u001b[0mlocation\u001b[0m\u001b[1;33m=\u001b[0m\u001b[0mpath\u001b[0m\u001b[1;33m,\u001b[0m \u001b[0mto_xarray\u001b[0m\u001b[1;33m=\u001b[0m\u001b[1;32mTrue\u001b[0m\u001b[1;33m)\u001b[0m\u001b[1;33m\u001b[0m\u001b[1;33m\u001b[0m\u001b[0m\n\u001b[0m\u001b[0;32m      5\u001b[0m \u001b[0mt_daily\u001b[0m\u001b[1;33m\u001b[0m\u001b[1;33m\u001b[0m\u001b[0m\n",
      "\u001b[1;31mAttributeError\u001b[0m: module 'utils' has no attribute 'munich_station_daily'"
     ]
    }
   ],
   "source": [
    "import utils\n",
    "\n",
    "path = os.getcwd()\n",
    "t_daily = utils.munich_station_daily(location=path, to_xarray=True)\n",
    "t_daily"
   ]
  },
  {
   "cell_type": "code",
   "execution_count": 10,
   "id": "3fce3b4d-5661-4b3f-883d-a775372c8f5e",
   "metadata": {},
   "outputs": [
    {
     "ename": "TypeError",
     "evalue": "'>' not supported between instances of 'str' and 'int'",
     "output_type": "error",
     "traceback": [
      "\u001b[1;31m---------------------------------------------------------------------------\u001b[0m",
      "\u001b[1;31mTypeError\u001b[0m                                 Traceback (most recent call last)",
      "\u001b[1;32m~\\AppData\\Local\\Temp/ipykernel_9472/1749880047.py\u001b[0m in \u001b[0;36m<module>\u001b[1;34m\u001b[0m\n\u001b[1;32m----> 1\u001b[1;33m \u001b[0mt_high_tmax\u001b[0m \u001b[1;33m=\u001b[0m \u001b[0mt_monthly\u001b[0m\u001b[1;33m.\u001b[0m\u001b[0mwhere\u001b[0m\u001b[1;33m(\u001b[0m\u001b[1;34m\"t_max\"\u001b[0m \u001b[1;33m>\u001b[0m \u001b[1;36m20\u001b[0m\u001b[1;33m)\u001b[0m\u001b[1;33m\u001b[0m\u001b[1;33m\u001b[0m\u001b[0m\n\u001b[0m\u001b[0;32m      2\u001b[0m \u001b[0mt_high_tmax\u001b[0m\u001b[1;33m\u001b[0m\u001b[1;33m\u001b[0m\u001b[0m\n",
      "\u001b[1;31mTypeError\u001b[0m: '>' not supported between instances of 'str' and 'int'"
     ]
    }
   ],
   "source": [
    "t_high_tmax = t_monthly.where(\"t_max\" > 20)\n",
    "t_high_tmax"
   ]
  },
  {
   "cell_type": "markdown",
   "id": "c978f9e8-e577-4e15-87bb-0237c156e272",
   "metadata": {},
   "source": [
    "**Numpy functions:**"
   ]
  },
  {
   "cell_type": "code",
   "execution_count": null,
   "id": "e9c4fabb-c5d0-45b2-a57d-3a7b2f026bec",
   "metadata": {
    "tags": []
   },
   "outputs": [],
   "source": [
    "# generate data (for demonstration purpose)\n",
    "data = np.random.normal(size=(1_000))\n",
    "print(\"data.shape\", data.shape)\n",
    "\n",
    "two_by_thress_samples = np.random.choice(data, size=(2,3))\n",
    "print(\"two_by_thress_samples.shape\", two_by_thress_samples.shape)\n",
    "\n",
    "mean_along_0th_axis = np.mean(two_by_thress_samples, axis=0)\n",
    "print(\"mean_along_0th_axis.shape\", mean_along_0th_axis.shape)"
   ]
  },
  {
   "cell_type": "code",
   "execution_count": null,
   "id": "2a9f89ee-8129-46b6-9ae8-da356c8d3959",
   "metadata": {},
   "outputs": [],
   "source": []
  }
 ],
 "metadata": {
  "kernelspec": {
   "display_name": "Python 3 (ipykernel)",
   "language": "python",
   "name": "python3"
  },
  "language_info": {
   "codemirror_mode": {
    "name": "ipython",
    "version": 3
   },
   "file_extension": ".py",
   "mimetype": "text/x-python",
   "name": "python",
   "nbconvert_exporter": "python",
   "pygments_lexer": "ipython3",
   "version": "3.9.7"
  }
 },
 "nbformat": 4,
 "nbformat_minor": 5
}
